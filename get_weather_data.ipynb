{
 "cells": [
  {
   "cell_type": "code",
   "execution_count": 2,
   "id": "efd3ac97",
   "metadata": {},
   "outputs": [],
   "source": [
    "import json\n",
    "import time\n",
    "import requests\n",
    "#from kafka import KafkaProducer\n",
    "from datetime import datetime\n",
    "from dotenv import load_dotenv\n",
    "import os\n"
   ]
  },
  {
   "cell_type": "code",
   "execution_count": null,
   "id": "dfa4dde7",
   "metadata": {},
   "outputs": [
    {
     "data": {
      "text/plain": [
       "{'coord': {'lon': -0.1257, 'lat': 51.5085},\n",
       " 'weather': [{'id': 800,\n",
       "   'main': 'Clear',\n",
       "   'description': 'clear sky',\n",
       "   'icon': '01d'}],\n",
       " 'base': 'stations',\n",
       " 'main': {'temp': 15.83,\n",
       "  'feels_like': 15.27,\n",
       "  'temp_min': 15.83,\n",
       "  'temp_max': 15.83,\n",
       "  'pressure': 1027,\n",
       "  'humidity': 69,\n",
       "  'sea_level': 1027,\n",
       "  'grnd_level': 1023},\n",
       " 'visibility': 10000,\n",
       " 'wind': {'speed': 2.85, 'deg': 321, 'gust': 3.82},\n",
       " 'clouds': {'all': 4},\n",
       " 'dt': 1760022446,\n",
       " 'sys': {'country': 'GB', 'sunrise': 1759990455, 'sunset': 1760030457},\n",
       " 'timezone': 3600,\n",
       " 'id': 2643743,\n",
       " 'name': 'London',\n",
       " 'cod': 200,\n",
       " 'processed_at': '2025-10-09T22:13:06.721861'}"
      ]
     },
     "execution_count": 23,
     "metadata": {},
     "output_type": "execute_result"
    }
   ],
   "source": [
    "def get_weather_data(city):\n",
    "    url = \"http://api.openweathermap.org/data/2.5/weather\"\n",
    "    params = {\n",
    "        'q': city,\n",
    "        'appid': \"12dab4b024047e6b208d4e435ed2fa6f\",\n",
    "        'units': 'metric'\n",
    "    }\n",
    "    \n",
    "    try:\n",
    "        response = requests.get(url, params=params)\n",
    "        response.raise_for_status()\n",
    "        return response.json()\n",
    "    except requests.exceptions.RequestException as e:\n",
    "        print(f\"Error fetching weather data for {city}: {e}\")\n",
    "        return None\n",
    "\n",
    "weather_data = get_weather_data(\"London\")\n"
   ]
  },
  {
   "cell_type": "code",
   "execution_count": 26,
   "id": "50fee3a7",
   "metadata": {},
   "outputs": [
    {
     "data": {
      "text/plain": [
       "'2025-10-09T22:14:08.232809'"
      ]
     },
     "execution_count": 26,
     "metadata": {},
     "output_type": "execute_result"
    }
   ],
   "source": [
    "weather_data['processed_at'] = datetime.now().isoformat()\n",
    "\n",
    "weather_data['processed_at']"
   ]
  }
 ],
 "metadata": {
  "kernelspec": {
   "display_name": "base",
   "language": "python",
   "name": "python3"
  },
  "language_info": {
   "codemirror_mode": {
    "name": "ipython",
    "version": 3
   },
   "file_extension": ".py",
   "mimetype": "text/x-python",
   "name": "python",
   "nbconvert_exporter": "python",
   "pygments_lexer": "ipython3",
   "version": "3.11.7"
  }
 },
 "nbformat": 4,
 "nbformat_minor": 5
}
