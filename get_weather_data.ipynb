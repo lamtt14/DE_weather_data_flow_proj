{
 "cells": [
  {
   "cell_type": "code",
   "execution_count": 1,
   "id": "efd3ac97",
   "metadata": {},
   "outputs": [],
   "source": [
    "import json\n",
    "import time\n",
    "import requests\n",
    "#from kafka import KafkaProducer\n",
    "from datetime import datetime\n",
    "from dotenv import load_dotenv\n",
    "import os\n"
   ]
  },
  {
   "cell_type": "code",
   "execution_count": null,
   "id": "dfa4dde7",
   "metadata": {},
   "outputs": [],
   "source": [
    "def get_weather_data(city):\n",
    "    url = \"http://api.openweathermap.org/data/2.5/weather\"\n",
    "    params = {\n",
    "        'q': city,\n",
    "        'appid': \"12dab4b024047e6b208d4e435ed2fa6f\",\n",
    "        'units': 'metric'\n",
    "    }\n",
    "    \n",
    "    try:\n",
    "        response = requests.get(url, params=params)\n",
    "        response.raise_for_status()\n",
    "        return response.json()\n",
    "    except requests.exceptions.RequestException as e:\n",
    "        print(f\"Error fetching weather data for {city}: {e}\")\n",
    "        return None\n",
    "\n",
    "#Ho Chi Minh City, Quy Nhon, Ha Long, Pleiku, Ninh Binh, Nha Trang, Da Lat, Can Tho, Vung Tau\n",
    "weather_data = get_weather_data(\"Ha Long\")\n"
   ]
  },
  {
   "cell_type": "code",
   "execution_count": 16,
   "id": "4749d14e",
   "metadata": {},
   "outputs": [
    {
     "data": {
      "text/plain": [
       "{'coord': {'lon': 107.08, 'lat': 20.9511},\n",
       " 'weather': [{'id': 803,\n",
       "   'main': 'Clouds',\n",
       "   'description': 'broken clouds',\n",
       "   'icon': '04d'}],\n",
       " 'base': 'stations',\n",
       " 'main': {'temp': 28.26,\n",
       "  'feels_like': 32.59,\n",
       "  'temp_min': 28.26,\n",
       "  'temp_max': 28.26,\n",
       "  'pressure': 1010,\n",
       "  'humidity': 79,\n",
       "  'sea_level': 1010,\n",
       "  'grnd_level': 1001},\n",
       " 'visibility': 10000,\n",
       " 'wind': {'speed': 4.11, 'deg': 92, 'gust': 6.18},\n",
       " 'clouds': {'all': 78},\n",
       " 'dt': 1760519387,\n",
       " 'sys': {'country': 'VN', 'sunrise': 1760482009, 'sunset': 1760524072},\n",
       " 'timezone': 25200,\n",
       " 'id': 1580410,\n",
       " 'name': 'Ha Long',\n",
       " 'cod': 200}"
      ]
     },
     "execution_count": 16,
     "metadata": {},
     "output_type": "execute_result"
    }
   ],
   "source": [
    "weather_data"
   ]
  },
  {
   "cell_type": "code",
   "execution_count": 3,
   "id": "50fee3a7",
   "metadata": {},
   "outputs": [
    {
     "data": {
      "text/plain": [
       "'2025-10-11T18:00:08.891537'"
      ]
     },
     "execution_count": 3,
     "metadata": {},
     "output_type": "execute_result"
    }
   ],
   "source": [
    "weather_data['processed_at'] = datetime.now().isoformat()\n",
    "\n",
    "weather_data['processed_at']"
   ]
  }
 ],
 "metadata": {
  "kernelspec": {
   "display_name": "base",
   "language": "python",
   "name": "python3"
  },
  "language_info": {
   "codemirror_mode": {
    "name": "ipython",
    "version": 3
   },
   "file_extension": ".py",
   "mimetype": "text/x-python",
   "name": "python",
   "nbconvert_exporter": "python",
   "pygments_lexer": "ipython3",
   "version": "3.11.7"
  }
 },
 "nbformat": 4,
 "nbformat_minor": 5
}
